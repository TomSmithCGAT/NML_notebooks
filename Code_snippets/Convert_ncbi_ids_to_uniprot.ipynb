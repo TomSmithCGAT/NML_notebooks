{
 "cells": [
  {
   "cell_type": "markdown",
   "metadata": {},
   "source": [
    "Test code to convery ncbi ids to uniprot"
   ]
  },
  {
   "cell_type": "code",
   "execution_count": 2,
   "metadata": {
    "collapsed": false
   },
   "outputs": [],
   "source": [
    "import pandas as pd\n",
    "import numpy as np\n",
    "import os\n",
    "import collections\n"
   ]
  },
  {
   "cell_type": "code",
   "execution_count": 3,
   "metadata": {
    "collapsed": false
   },
   "outputs": [],
   "source": [
    "import mygene\n",
    "\n",
    "mg = mygene.MyGeneInfo()"
   ]
  },
  {
   "cell_type": "code",
   "execution_count": 4,
   "metadata": {
    "collapsed": false
   },
   "outputs": [
    {
     "name": "stdout",
     "output_type": "stream",
     "text": [
      "Finished.\n",
      "1 input query terms found no hit:\n",
      "\t[u'DDX26B']\n",
      "Pass \"returnall=True\" to return complete lists of duplicate or missing query terms.\n",
      "[{u'notfound': True, u'query': u'DDX26B'}, {u'query': u'CCDC83', u'entrezgene': 220047, u'_id': u'220047'}, {u'query': u'MAST3', u'entrezgene': 23031, u'_id': u'23031'}, {u'query': u'FLOT1', u'entrezgene': 10211, u'_id': u'10211'}, {u'query': u'RPL11', u'entrezgene': 6135, u'_id': u'6135'}, {u'query': u'ZDHHC20', u'entrezgene': 253832, u'_id': u'253832'}, {u'query': u'LUC7L3', u'entrezgene': 51747, u'_id': u'51747'}, {u'query': u'SNORD49A', u'entrezgene': 26800, u'_id': u'26800'}, {u'query': u'CTSH', u'entrezgene': 1512, u'_id': u'1512'}, {u'query': u'ACOT8', u'entrezgene': 10005, u'_id': u'10005'}]\n"
     ]
    }
   ],
   "source": [
    "xli = ['DDX26B',\n",
    " 'CCDC83',\n",
    " 'MAST3',\n",
    " 'FLOT1',\n",
    " 'RPL11',\n",
    " 'ZDHHC20',\n",
    " 'LUC7L3',\n",
    " 'SNORD49A',\n",
    " 'CTSH',\n",
    " 'ACOT8']\n",
    "out = mg.querymany(xli, scopes='symbol', fields='entrezgene', species='human')\n",
    "print out"
   ]
  },
  {
   "cell_type": "code",
   "execution_count": 5,
   "metadata": {
    "collapsed": false
   },
   "outputs": [
    {
     "name": "stdout",
     "output_type": "stream",
     "text": [
      "Finished.\n",
      "{'dup': [], 'missing': [], 'out': [{u'query': u'NM_001001177', u'_id': u'407788', u'uniprot': {u'TrEMBL': [u'A2CG24', u'A2CG25', u'A6X8K8', u'A6X8K9', u'Q3V0M8', u'Q80XD0', u'Q8BHP1']}}]}\n"
     ]
    }
   ],
   "source": [
    "xli = [\"NM_001001177\"]\n",
    "out = mg.querymany(xli, scopes='refseq', fields='uniprot', species='mouse', returnall=True)\n",
    "print out"
   ]
  },
  {
   "cell_type": "code",
   "execution_count": 6,
   "metadata": {
    "collapsed": true
   },
   "outputs": [],
   "source": [
    "wkdir = \"/Users/toms/WT/NML\"\n",
    "data_dir = os.path.join(wkdir, \"data\")"
   ]
  },
  {
   "cell_type": "code",
   "execution_count": 157,
   "metadata": {
    "collapsed": false
   },
   "outputs": [
    {
     "name": "stdout",
     "output_type": "stream",
     "text": [
      "            Gene  Scaled bc05 (E1)  Scaled bc06 (E2)  Scaled bc07 (E3)  \\\n",
      "0  0610005C13Rik          0.074308          0.088382               0.0   \n",
      "1  0610005C13Rik          0.000003          0.000003               0.0   \n",
      "\n",
      "   Scaled bc08 (E4)  \n",
      "0               0.0  \n",
      "1               0.0  \n"
     ]
    }
   ],
   "source": [
    "scaled_df = pd.read_table(os.path.join(data_dir, \"GSE73467_Scaled_data.csv\"), sep=\",\")\n",
    "scaled_df.to_csv(os.path.join(data_dir, \"GSE73467_Scaled_data.tsv\"), sep=\"\\t\", index=False)\n",
    "scaled_df = scaled_df.iloc[:,1:6]\n",
    "print scaled_df.head(2)"
   ]
  },
  {
   "cell_type": "code",
   "execution_count": 8,
   "metadata": {
    "collapsed": false
   },
   "outputs": [
    {
     "name": "stdout",
     "output_type": "stream",
     "text": [
      "querying 1-1000...done.\n",
      "querying 1001-2000...done.\n",
      "querying 2001-3000...done.\n",
      "querying 3001-4000...done.\n",
      "querying 4001-5000...done.\n",
      "querying 5001-6000...done.\n",
      "querying 6001-7000...done.\n",
      "querying 7001-8000...done.\n",
      "querying 8001-9000...done.\n",
      "querying 9001-10000...done.\n",
      "querying 10001-11000...done.\n",
      "querying 11001-12000...done.\n",
      "querying 12001-13000...done.\n",
      "querying 13001-14000...done.\n",
      "querying 14001-15000...done.\n",
      "querying 15001-16000...done.\n",
      "querying 16001-17000...done.\n",
      "querying 17001-18000...done.\n",
      "querying 18001-19000...done.\n",
      "querying 19001-20000...done.\n",
      "querying 20001-21000...done.\n",
      "querying 21001-22000...done.\n",
      "querying 22001-23000...done.\n",
      "querying 23001-24000...done.\n",
      "querying 24001-25000...done.\n",
      "querying 25001-26000...done.\n",
      "querying 26001-27000...done.\n",
      "querying 27001-27796...done.\n",
      "Finished.\n",
      "524 input query terms found no hit:\n",
      "\t[u'NM_001177543.1', u'NM_001177543.2', u'NM_001177543.3', u'NM_001177543.4', u'NM_001177543.5', u'NR\n"
     ]
    }
   ],
   "source": [
    "out = mg.querymany(scaled_df['Transcript'].tolist(), scopes='refseq', fields='uniprot', species='mouse', returnall=True)"
   ]
  },
  {
   "cell_type": "markdown",
   "metadata": {},
   "source": [
    "We only want to match the uniprot ids found in the hyperLOPIT data. So let's start by extracting these ids."
   ]
  },
  {
   "cell_type": "code",
   "execution_count": 424,
   "metadata": {
    "collapsed": false
   },
   "outputs": [
    {
     "name": "stdout",
     "output_type": "stream",
     "text": [
      "5032\n",
      "(5032, 46)\n",
      "(5011, 46)\n"
     ]
    }
   ],
   "source": [
    "lopit_df = pd.read_table(os.path.join(data_dir, \"ncomms.tsv.txt\"), sep=\"\\t\")\n",
    "\n",
    "lopit_df['uniprot_id'] = [x.split(\"-\")[0] for x in lopit_df['UniProt Accession for Protein Group']]\n",
    "print len(lopit_df['uniprot_id'])\n",
    "print lopit_df.shape\n",
    "\n",
    "lopit_df.drop_duplicates(subset=['uniprot_id'], inplace=True)\n",
    "print lopit_df.shape"
   ]
  },
  {
   "cell_type": "code",
   "execution_count": 159,
   "metadata": {
    "collapsed": false
   },
   "outputs": [
    {
     "name": "stdout",
     "output_type": "stream",
     "text": [
      "{u'query': u'NM_145990', u'_id': u'214444', u'uniprot': {u'Swiss-Prot': [u'P68254', u'Q8K389'], u'TrEMBL': [u'A3KML3', u'F6R2K5', u'F6VW30', u'F6YY69', u'H7BX43', u'Q0VGR5', u'Q5SP75']}}\n",
      "[u'P68254', u'Q8K389']\n"
     ]
    }
   ],
   "source": [
    "query2uniprot = {}\n",
    "\n",
    "for query in out['out']:\n",
    "    if \"uniprot\" in query:\n",
    "        if 'Swiss-Prot' in query['uniprot']:\n",
    "            n = 0\n",
    "            matches = []\n",
    "            for test_id in query['uniprot']['Swiss-Prot']:\n",
    "                if test_id in lopit_uniprots:\n",
    "                    n+=1\n",
    "                    matches.append(test_id)\n",
    "            if n>1:\n",
    "                print query\n",
    "                print matches\n",
    "                break\n",
    "            #if type(query['uniprot']['Swiss-Prot']) is list:\n",
    "                #print query, query['query'], query['uniprot']['Swiss-Prot']\n",
    "                #break\n",
    "            query2uniprot[query['query']] = query['uniprot']['Swiss-Prot']\n",
    "\n",
    "#print query2uniprot"
   ]
  },
  {
   "cell_type": "markdown",
   "metadata": {},
   "source": [
    "OK, so the conversion doesn't work well. Above we have a ncbi transcript id \"NM_145990\" which apparently maps to 2 Swiss-Prot ids [u'P68254', u'Q8K389'], both of which are in the LOPIT data. Below, we search through the entire set of ncbi transcript ids in the file and find that NM_011739 also matches P68254. Indeed according to uniprot converter, NM_145990 is Q8K389 and NM_011739 is P68254. So it looks like we're better off using the uniprot converter."
   ]
  },
  {
   "cell_type": "code",
   "execution_count": 160,
   "metadata": {
    "collapsed": false
   },
   "outputs": [
    {
     "name": "stdout",
     "output_type": "stream",
     "text": [
      "{u'query': u'NM_145990', u'_id': u'214444', u'uniprot': {u'Swiss-Prot': [u'P68254', u'Q8K389'], u'TrEMBL': [u'A3KML3', u'F6R2K5', u'F6VW30', u'F6YY69', u'H7BX43', u'Q0VGR5', u'Q5SP75']}}\n",
      "{u'query': u'NM_145990', u'_id': u'214444', u'uniprot': {u'Swiss-Prot': [u'P68254', u'Q8K389'], u'TrEMBL': [u'A3KML3', u'F6R2K5', u'F6VW30', u'F6YY69', u'H7BX43', u'Q0VGR5', u'Q5SP75']}}\n",
      "{u'query': u'NM_011739', u'_id': u'22630', u'uniprot': {u'Swiss-Prot': u'P68254', u'TrEMBL': [u'A3KML3', u'F6VW30', u'F6YY69']}}\n"
     ]
    }
   ],
   "source": [
    "for query in out['out']:\n",
    "    if \"uniprot\" in query:\n",
    "        if 'Swiss-Prot' in query['uniprot']:\n",
    "            n = 0\n",
    "            matches = []\n",
    "            if type(query['uniprot']['Swiss-Prot']) == list:\n",
    "                for test_id in query['uniprot']['Swiss-Prot']:\n",
    "                    if test_id == \"P68254\" or test_id == \"Q8K389\":\n",
    "                        print query\n",
    "            else:\n",
    "                if query['uniprot']['Swiss-Prot'] == \"P68254\" or query['uniprot']['Swiss-Prot'] == \"Q8K389\":\n",
    "                    print query"
   ]
  },
  {
   "cell_type": "markdown",
   "metadata": {},
   "source": [
    "Below, we have the dataframe from the coversion:"
   ]
  },
  {
   "cell_type": "code",
   "execution_count": 161,
   "metadata": {
    "collapsed": false,
    "scrolled": false
   },
   "outputs": [
    {
     "name": "stdout",
     "output_type": "stream",
     "text": [
      "             isomap:M20161122AAFB7E4D2F1D05654627429E83DA5CCE998041Y   Entry  \\\n",
      "ncbi_id                                                                        \n",
      "NM_001001152                                                NaN       Q6P5C7   \n",
      "NM_001001160                                                NaN       Q6NS60   \n",
      "\n",
      "               Entry name    Status            Protein names  \\\n",
      "ncbi_id                                                        \n",
      "NM_001001152  ZN728_MOUSE  reviewed  Zinc finger protein 728   \n",
      "NM_001001160  FBX41_MOUSE  reviewed    F-box only protein 41   \n",
      "\n",
      "                              Gene names              Organism  Length  \n",
      "ncbi_id                                                                 \n",
      "NM_001001152               Znf728 Zfp458  Mus musculus (Mouse)     752  \n",
      "NM_001001160  Fbxo41 D6Ertd538e Kiaa1940  Mus musculus (Mouse)     873  \n",
      "(15093, 8)\n",
      "          isomap:M20161122AAFB7E4D2F1D05654627429E83DA5CCE998041Y   Entry  \\\n",
      "ncbi_id                                                                     \n",
      "NM_145412                                                NaN       P0CG14   \n",
      "NM_145412                              NM_145412 -> P0CG15-1       P0CG15   \n",
      "\n",
      "            Entry name    Status  \\\n",
      "ncbi_id                            \n",
      "NM_145412  CTF8A_MOUSE  reviewed   \n",
      "NM_145412   CTF8_MOUSE  reviewed   \n",
      "\n",
      "                                               Protein names   Gene names  \\\n",
      "ncbi_id                                                                     \n",
      "NM_145412  Chromosome transmission fidelity protein 8 hom...  Chtf8 Derpc   \n",
      "NM_145412  Chromosome transmission fidelity protein 8 hom...   Chtf8 Ctf8   \n",
      "\n",
      "                       Organism  Length  \n",
      "ncbi_id                                  \n",
      "NM_145412  Mus musculus (Mouse)     533  \n",
      "NM_145412  Mus musculus (Mouse)     121  \n"
     ]
    }
   ],
   "source": [
    "uniprot_df = pd.read_table(os.path.join(data_dir, \"uniprot_convert.tsv\"), sep=\"\\t\", index_col=0)\n",
    "uniprot_df.index.name = \"ncbi_id\"\n",
    "uniprot_df = uniprot_df[uniprot_df['Status']==\"reviewed\"]\n",
    "print uniprot_df.head(2)\n",
    "print uniprot_df.shape\n",
    "\n",
    "t_id_counts = collections.Counter(uniprot_df.index)\n",
    "\n",
    "print uniprot_df.ix['NM_145412']\n",
    "\n"
   ]
  },
  {
   "cell_type": "markdown",
   "metadata": {},
   "source": [
    "Ok, so there are 8 transcript ids (or sets of transcript ids) which map to multiple proteins. Let's just ignore these to make life simplier"
   ]
  },
  {
   "cell_type": "code",
   "execution_count": 162,
   "metadata": {
    "collapsed": false,
    "scrolled": true
   },
   "outputs": [
    {
     "name": "stdout",
     "output_type": "stream",
     "text": [
      "NM_001164787,NM_011468 2\n",
      "                       isomap:M20161122AAFB7E4D2F1D05654627429E83DA5CCE998041Y  \\\n",
      "ncbi_id                                                                          \n",
      "NM_001164787,NM_011468                                                  ,        \n",
      "NM_001164787,NM_011468                                                  ,        \n",
      "\n",
      "                         Entry   Entry name    Status  \\\n",
      "ncbi_id                                                 \n",
      "NM_001164787,NM_011468  Q4KL71  SP2A3_MOUSE  reviewed   \n",
      "NM_001164787,NM_011468  Q9CQK8  SPR2A_MOUSE  reviewed   \n",
      "\n",
      "                                         Protein names Gene names  \\\n",
      "ncbi_id                                                             \n",
      "NM_001164787,NM_011468  Small proline-rich protein 2A3    Sprr2a3   \n",
      "NM_001164787,NM_011468   Small proline-rich protein 2A     Sprr2a   \n",
      "\n",
      "                                    Organism  Length  \n",
      "ncbi_id                                               \n",
      "NM_001164787,NM_011468  Mus musculus (Mouse)      83  \n",
      "NM_001164787,NM_011468  Mus musculus (Mouse)      83  \n",
      "NM_001164787,NM_011468 2\n",
      "                       isomap:M20161122AAFB7E4D2F1D05654627429E83DA5CCE998041Y  \\\n",
      "ncbi_id                                                                          \n",
      "NM_001164787,NM_011468                                                  ,        \n",
      "NM_001164787,NM_011468                                                  ,        \n",
      "\n",
      "                         Entry   Entry name    Status  \\\n",
      "ncbi_id                                                 \n",
      "NM_001164787,NM_011468  Q4KL71  SP2A3_MOUSE  reviewed   \n",
      "NM_001164787,NM_011468  Q9CQK8  SPR2A_MOUSE  reviewed   \n",
      "\n",
      "                                         Protein names Gene names  \\\n",
      "ncbi_id                                                             \n",
      "NM_001164787,NM_011468  Small proline-rich protein 2A3    Sprr2a3   \n",
      "NM_001164787,NM_011468   Small proline-rich protein 2A     Sprr2a   \n",
      "\n",
      "                                    Organism  Length  \n",
      "ncbi_id                                               \n",
      "NM_001164787,NM_011468  Mus musculus (Mouse)      83  \n",
      "NM_001164787,NM_011468  Mus musculus (Mouse)      83  \n",
      "NM_001031664,NM_021431 2\n",
      "                       isomap:M20161122AAFB7E4D2F1D05654627429E83DA5CCE998041Y  \\\n",
      "ncbi_id                                                                          \n",
      "NM_001031664,NM_021431                                                  ,        \n",
      "NM_001031664,NM_021431                                                  ,        \n",
      "\n",
      "                         Entry   Entry name    Status  \\\n",
      "ncbi_id                                                 \n",
      "NM_001031664,NM_021431  P0C027  NUD10_MOUSE  reviewed   \n",
      "NM_001031664,NM_021431  P0C028  NUD11_MOUSE  reviewed   \n",
      "\n",
      "                                                            Protein names  \\\n",
      "ncbi_id                                                                     \n",
      "NM_001031664,NM_021431  Diphosphoinositol polyphosphate phosphohydrola...   \n",
      "NM_001031664,NM_021431  Diphosphoinositol polyphosphate phosphohydrola...   \n",
      "\n",
      "                                     Gene names              Organism  Length  \n",
      "ncbi_id                                                                        \n",
      "NM_001031664,NM_021431            Nudt10 Dipp3a  Mus musculus (Mouse)     164  \n",
      "NM_001031664,NM_021431  Nudt11 Dipp3b MNCb-1696  Mus musculus (Mouse)     164  \n",
      "NM_001031664,NM_021431 2\n",
      "                       isomap:M20161122AAFB7E4D2F1D05654627429E83DA5CCE998041Y  \\\n",
      "ncbi_id                                                                          \n",
      "NM_001031664,NM_021431                                                  ,        \n",
      "NM_001031664,NM_021431                                                  ,        \n",
      "\n",
      "                         Entry   Entry name    Status  \\\n",
      "ncbi_id                                                 \n",
      "NM_001031664,NM_021431  P0C027  NUD10_MOUSE  reviewed   \n",
      "NM_001031664,NM_021431  P0C028  NUD11_MOUSE  reviewed   \n",
      "\n",
      "                                                            Protein names  \\\n",
      "ncbi_id                                                                     \n",
      "NM_001031664,NM_021431  Diphosphoinositol polyphosphate phosphohydrola...   \n",
      "NM_001031664,NM_021431  Diphosphoinositol polyphosphate phosphohydrola...   \n",
      "\n",
      "                                     Gene names              Organism  Length  \n",
      "ncbi_id                                                                        \n",
      "NM_001031664,NM_021431            Nudt10 Dipp3a  Mus musculus (Mouse)     164  \n",
      "NM_001031664,NM_021431  Nudt11 Dipp3b MNCb-1696  Mus musculus (Mouse)     164  \n",
      "NM_001270495,NM_001270498,NM_026679 2\n",
      "                                    isomap:M20161122AAFB7E4D2F1D05654627429E83DA5CCE998041Y  \\\n",
      "ncbi_id                                                                                       \n",
      "NM_001270495,NM_001270498,NM_026679                                                 ,,        \n",
      "NM_001270495,NM_001270498,NM_026679                                                 ,,        \n",
      "\n",
      "                                      Entry   Entry name    Status  \\\n",
      "ncbi_id                                                              \n",
      "NM_001270495,NM_001270498,NM_026679  P0DN90  T254B_MOUSE  reviewed   \n",
      "NM_001270495,NM_001270498,NM_026679  P0DN91  T254C_MOUSE  reviewed   \n",
      "\n",
      "                                                  Protein names Gene names  \\\n",
      "ncbi_id                                                                      \n",
      "NM_001270495,NM_001270498,NM_026679  Transmembrane protein 254b   Tmem254b   \n",
      "NM_001270495,NM_001270498,NM_026679  Transmembrane protein 254c   Tmem254c   \n",
      "\n",
      "                                                 Organism  Length  \n",
      "ncbi_id                                                            \n",
      "NM_001270495,NM_001270498,NM_026679  Mus musculus (Mouse)     123  \n",
      "NM_001270495,NM_001270498,NM_026679  Mus musculus (Mouse)     123  \n",
      "NM_001270495,NM_001270498,NM_026679 2\n",
      "                                    isomap:M20161122AAFB7E4D2F1D05654627429E83DA5CCE998041Y  \\\n",
      "ncbi_id                                                                                       \n",
      "NM_001270495,NM_001270498,NM_026679                                                 ,,        \n",
      "NM_001270495,NM_001270498,NM_026679                                                 ,,        \n",
      "\n",
      "                                      Entry   Entry name    Status  \\\n",
      "ncbi_id                                                              \n",
      "NM_001270495,NM_001270498,NM_026679  P0DN90  T254B_MOUSE  reviewed   \n",
      "NM_001270495,NM_001270498,NM_026679  P0DN91  T254C_MOUSE  reviewed   \n",
      "\n",
      "                                                  Protein names Gene names  \\\n",
      "ncbi_id                                                                      \n",
      "NM_001270495,NM_001270498,NM_026679  Transmembrane protein 254b   Tmem254b   \n",
      "NM_001270495,NM_001270498,NM_026679  Transmembrane protein 254c   Tmem254c   \n",
      "\n",
      "                                                 Organism  Length  \n",
      "ncbi_id                                                            \n",
      "NM_001270495,NM_001270498,NM_026679  Mus musculus (Mouse)     123  \n",
      "NM_001270495,NM_001270498,NM_026679  Mus musculus (Mouse)     123  \n",
      "NM_145412 2\n",
      "          isomap:M20161122AAFB7E4D2F1D05654627429E83DA5CCE998041Y   Entry  \\\n",
      "ncbi_id                                                                     \n",
      "NM_145412                                                NaN       P0CG14   \n",
      "NM_145412                              NM_145412 -> P0CG15-1       P0CG15   \n",
      "\n",
      "            Entry name    Status  \\\n",
      "ncbi_id                            \n",
      "NM_145412  CTF8A_MOUSE  reviewed   \n",
      "NM_145412   CTF8_MOUSE  reviewed   \n",
      "\n",
      "                                               Protein names   Gene names  \\\n",
      "ncbi_id                                                                     \n",
      "NM_145412  Chromosome transmission fidelity protein 8 hom...  Chtf8 Derpc   \n",
      "NM_145412  Chromosome transmission fidelity protein 8 hom...   Chtf8 Ctf8   \n",
      "\n",
      "                       Organism  Length  \n",
      "ncbi_id                                  \n",
      "NM_145412  Mus musculus (Mouse)     533  \n",
      "NM_145412  Mus musculus (Mouse)     121  \n",
      "NM_145412 2\n",
      "          isomap:M20161122AAFB7E4D2F1D05654627429E83DA5CCE998041Y   Entry  \\\n",
      "ncbi_id                                                                     \n",
      "NM_145412                                                NaN       P0CG14   \n",
      "NM_145412                              NM_145412 -> P0CG15-1       P0CG15   \n",
      "\n",
      "            Entry name    Status  \\\n",
      "ncbi_id                            \n",
      "NM_145412  CTF8A_MOUSE  reviewed   \n",
      "NM_145412   CTF8_MOUSE  reviewed   \n",
      "\n",
      "                                               Protein names   Gene names  \\\n",
      "ncbi_id                                                                     \n",
      "NM_145412  Chromosome transmission fidelity protein 8 hom...  Chtf8 Derpc   \n",
      "NM_145412  Chromosome transmission fidelity protein 8 hom...   Chtf8 Ctf8   \n",
      "\n",
      "                       Organism  Length  \n",
      "ncbi_id                                  \n",
      "NM_145412  Mus musculus (Mouse)     533  \n",
      "NM_145412  Mus musculus (Mouse)     121  \n",
      "8\n"
     ]
    }
   ],
   "source": [
    "n = 0\n",
    "for t_id in uniprot_df.index:\n",
    "    if t_id_counts[t_id]>1:\n",
    "        n+=1\n",
    "        print t_id, t_id_counts[t_id]\n",
    "        print uniprot_df.ix[t_id]\n",
    "        \n",
    "print n\n",
    "    "
   ]
  },
  {
   "cell_type": "code",
   "execution_count": 447,
   "metadata": {
    "collapsed": true
   },
   "outputs": [],
   "source": [
    "t_id2uniprot = {}\n",
    "t_id2length = {}\n",
    "\n",
    "for t_id in uniprot_df.index:\n",
    "    if t_id_counts[t_id]>1:\n",
    "        continue\n",
    "    for t_split_id in t_id.split(\",\"):\n",
    "        t_id2uniprot[t_split_id] = uniprot_df.ix[t_id]['Entry']\n",
    "        t_id2length[t_split_id] = uniprot_df.ix[t_id]['Length'] \n",
    "        \n",
    "    "
   ]
  },
  {
   "cell_type": "markdown",
   "metadata": {},
   "source": [
    "We now have a dictionary to convert ncbi id to uniprot id. we will use this method in the NML_multiple_isoforms notebook"
   ]
  }
 ],
 "metadata": {
  "anaconda-cloud": {},
  "kernelspec": {
   "display_name": "Python [conda root]",
   "language": "python",
   "name": "conda-root-py"
  },
  "language_info": {
   "codemirror_mode": {
    "name": "ipython",
    "version": 2
   },
   "file_extension": ".py",
   "mimetype": "text/x-python",
   "name": "python",
   "nbconvert_exporter": "python",
   "pygments_lexer": "ipython2",
   "version": "2.7.12"
  }
 },
 "nbformat": 4,
 "nbformat_minor": 1
}
