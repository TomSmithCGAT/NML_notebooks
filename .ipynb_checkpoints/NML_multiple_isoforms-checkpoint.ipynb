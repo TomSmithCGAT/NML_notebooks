{
 "cells": [
  {
   "cell_type": "markdown",
   "metadata": {},
   "source": [
    "## No man's land - Are these \"proteins\" actually multiple isoforms due to alternative splicing with different localisations?\n",
    "\n",
    "Here, we will explore whether the lack of classification is in part due to some peptides originating from multiple isoforms with different localisations. To test this we will use ribo-seq(1) data to define the proteins which have multiple expressed isoforms in mouse embryonic stem cells. We will then look for enrichment of these proteins in the \"unclassified\" proteins. e.g No Man's Land / Non-machine Learnable (NML) \n",
    "\n",
    "### Technical details:\n",
    "A major assumption in this analysis is that the peptides used to estimate protein expression can not differentiate between different protein isoforms. In the cases where this is definitely not the case, e.g where the hyperLOPIT data includes more than one row with the same protein id but different isoforms, the hyperLOPIT data is excluded from the analysis. However, a more detailed analysis starting from the peptide is required to determine which peptides are actually unique to one or another of the protein isoforms which may be present. \n",
    "\n",
    "Another assumption is that the ribo-seq data accurately captures the full repetoire of protein isoforms.\n",
    "\n",
    "In order to identify the protein isoforms, a number of heuristic decision have to be made:\n",
    "* Minimal expression level of an isoform. This is set at 0.1 FPKM\n",
    "* How \"mixed\" does the expression profile of a protein need to be between the isoforms to be considerd as multi-isoform. Here, any protein with less then 90% expression from the major isoform is considered to have multiple isoforms\n",
    "\n",
    "The ribo-seq transcripts also include a small number of transcript ids with suffixes, e.g \".1\". The expression values are summed across all the unique transcript ids, i.e having removed suffixes, on the assmpution that these transcripts are the same protein isoform.\n",
    "\n",
    "\n",
    "We exclude the following from the analysis:\n",
    "* Ribo-seq transcripts which map to multiple protein ids(!) -> 8 transcripts\n",
    "* Ribo-seq genes where no transcripts map to a uniprot id -> 5928 genes\n",
    "* Ribo-seq genes where the consituent transcripts map to multiple protein uniprot ids(!) -> 12 proteins\n",
    "* LOPIT Proteins with multiple isoforms in hyperLOPIT data (as explained above) -> 21 proteins\n",
    "* LOPIT Proteins where there is no ribo-seq data -> 285 proteins\n",
    "\n",
    "--> In total, of the 5011/5032 retained hyperLOPIT proteins, we have ribos-seq data for 4726 proteins, of which 913 have multiple isoforms.\n",
    "\n",
    "\n",
    "### Executive summary:\n",
    "    \n",
    "There is a slight enrichment for proteins with multiple isoforms in the unclassified proteins. A protein with multiple isoforms is ~1.4 times more likely to be unclassified than a protein without multiple isoforms. Approximately 7% of the unclassified proteins may be unclassified because of this. \n",
    "\n",
    "For a more detailed summary see the 'Conclusions and Discussion' section at the end of the notebook\n",
    "\n",
    "\n",
    "\n",
    "(1)\n",
    "\"Embryonic stem cells exhibit mRNA isoform-specific translational regulation\"\n",
    "Wong QW, Vaz C, Lee QY, Zhao TY, Luo R, Archer SK, Preiss T, Tanavde V, Vardy LA\n",
    "GSE73467"
   ]
  },
  {
   "cell_type": "code",
   "execution_count": 3,
   "metadata": {
    "collapsed": false
   },
   "outputs": [],
   "source": [
    "import pandas as pd\n",
    "import numpy as np\n",
    "import os\n",
    "import collections\n",
    "\n",
    "wkdir = \"/Users/toms/WT/NML\"\n",
    "data_dir = os.path.join(wkdir, \"data\")"
   ]
  },
  {
   "cell_type": "markdown",
   "metadata": {},
   "source": [
    "First we need to convert the ncbi ids in the ribo-seq data to uniprot ids. I've tried multiple ways to convert from ncbi transcript/gene id to uniprot id and all give different answers! The most sensible approach appears to be to use the uniprot website converter tool.\n",
    "\n",
    "Below, we have the dataframe from the uniprot website coversion using all ncbi transcript ids in the ribo-seq data:"
   ]
  },
  {
   "cell_type": "code",
   "execution_count": 316,
   "metadata": {
    "collapsed": false,
    "scrolled": false
   },
   "outputs": [
    {
     "name": "stdout",
     "output_type": "stream",
     "text": [
      "             isomap:M20161122AAFB7E4D2F1D05654627429E83DA5CCE998041Y   Entry  \\\n",
      "ncbi_id                                                                        \n",
      "NM_001001152                                                NaN       Q6P5C7   \n",
      "NM_001001160                                                NaN       Q6NS60   \n",
      "\n",
      "               Entry name    Status            Protein names  \\\n",
      "ncbi_id                                                        \n",
      "NM_001001152  ZN728_MOUSE  reviewed  Zinc finger protein 728   \n",
      "NM_001001160  FBX41_MOUSE  reviewed    F-box only protein 41   \n",
      "\n",
      "                              Gene names              Organism  Length  \n",
      "ncbi_id                                                                 \n",
      "NM_001001152               Znf728 Zfp458  Mus musculus (Mouse)     752  \n",
      "NM_001001160  Fbxo41 D6Ertd538e Kiaa1940  Mus musculus (Mouse)     873  \n",
      "(15093, 8)\n",
      "          isomap:M20161122AAFB7E4D2F1D05654627429E83DA5CCE998041Y   Entry  \\\n",
      "ncbi_id                                                                     \n",
      "NM_145412                                                NaN       P0CG14   \n",
      "NM_145412                              NM_145412 -> P0CG15-1       P0CG15   \n",
      "\n",
      "            Entry name    Status  \\\n",
      "ncbi_id                            \n",
      "NM_145412  CTF8A_MOUSE  reviewed   \n",
      "NM_145412   CTF8_MOUSE  reviewed   \n",
      "\n",
      "                                               Protein names   Gene names  \\\n",
      "ncbi_id                                                                     \n",
      "NM_145412  Chromosome transmission fidelity protein 8 hom...  Chtf8 Derpc   \n",
      "NM_145412  Chromosome transmission fidelity protein 8 hom...   Chtf8 Ctf8   \n",
      "\n",
      "                       Organism  Length  \n",
      "ncbi_id                                  \n",
      "NM_145412  Mus musculus (Mouse)     533  \n",
      "NM_145412  Mus musculus (Mouse)     121  \n"
     ]
    }
   ],
   "source": [
    "uniprot_df = pd.read_table(os.path.join(data_dir, \"uniprot_convert.tsv\"), sep=\"\\t\", index_col=0)\n",
    "uniprot_df.index.name = \"ncbi_id\"\n",
    "uniprot_df = uniprot_df[uniprot_df['Status']==\"reviewed\"]\n",
    "print uniprot_df.head(2)\n",
    "print uniprot_df.shape\n",
    "\n",
    "t_id_counts = collections.Counter(uniprot_df.index)\n",
    "\n",
    "print uniprot_df.ix['NM_145412']"
   ]
  },
  {
   "cell_type": "markdown",
   "metadata": {},
   "source": [
    "Ok, so there are 8 transcript ids (or sets of transcript ids) which map to multiple proteins. This is only a small number so let's just ignore these to make things simplier."
   ]
  },
  {
   "cell_type": "code",
   "execution_count": 67,
   "metadata": {
    "collapsed": false,
    "scrolled": true
   },
   "outputs": [
    {
     "name": "stdout",
     "output_type": "stream",
     "text": [
      "NM_001164787,NM_011468 2\n",
      "NM_001164787,NM_011468 2\n",
      "NM_001031664,NM_021431 2\n",
      "NM_001031664,NM_021431 2\n",
      "NM_001270495,NM_001270498,NM_026679 2\n",
      "NM_001270495,NM_001270498,NM_026679 2\n",
      "NM_145412 2\n",
      "NM_145412 2\n",
      "8\n"
     ]
    }
   ],
   "source": [
    "n = 0\n",
    "for t_id in uniprot_df.index:\n",
    "    if t_id_counts[t_id]>1:\n",
    "        n+=1\n",
    "        print t_id, t_id_counts[t_id]   \n",
    "print n\n",
    "    "
   ]
  },
  {
   "cell_type": "code",
   "execution_count": 68,
   "metadata": {
    "collapsed": true
   },
   "outputs": [],
   "source": [
    "t_id2uniprot = {}\n",
    "t_id2length = {}\n",
    "\n",
    "for t_id in uniprot_df.index:\n",
    "    if t_id_counts[t_id]>1:\n",
    "        continue\n",
    "    for t_split_id in t_id.split(\",\"):\n",
    "        t_id2uniprot[t_split_id] = uniprot_df.ix[t_id]['Entry']\n",
    "        t_id2length[t_split_id] = uniprot_df.ix[t_id]['Length'] \n",
    "        \n",
    "    "
   ]
  },
  {
   "cell_type": "markdown",
   "metadata": {},
   "source": [
    "We now have a dictionary to convert ncbi id to uniprot id. We will use this later to annotate the ribo-seq data."
   ]
  },
  {
   "cell_type": "code",
   "execution_count": 69,
   "metadata": {
    "collapsed": false
   },
   "outputs": [
    {
     "name": "stdout",
     "output_type": "stream",
     "text": [
      "Q3UHU5\n"
     ]
    }
   ],
   "source": [
    "print t_id2uniprot['NM_001114098']"
   ]
  },
  {
   "cell_type": "code",
   "execution_count": 8,
   "metadata": {
    "collapsed": false
   },
   "outputs": [
    {
     "name": "stdout",
     "output_type": "stream",
     "text": [
      "  Transcript           Gene  Scaled bc05 (E1)  Scaled bc06 (E2)  \\\n",
      "0  NR_038165  0610005C13Rik          0.074308          0.088382   \n",
      "1  NR_038166  0610005C13Rik          0.000003          0.000003   \n",
      "\n",
      "   Scaled bc07 (E3)  Scaled bc08 (E4)  \n",
      "0               0.0               0.0  \n",
      "1               0.0               0.0  \n",
      "Counter({'single transcript': 11786, \"no matches for single transcript, setting to 'NA'\": 5239, 'multiple transcript': 3349, \"no matches for any transcript, setting to 'NA'\": 689, \"more than one possible uniprot id, setting to 'NA'\": 12})\n",
      "0\n",
      "(27796, 5)\n"
     ]
    }
   ],
   "source": [
    "scaled_df = pd.read_table(os.path.join(data_dir, \"GSE73467_Scaled_data.csv\"), sep=\",\")\n",
    "scaled_df = scaled_df.iloc[:,0:6]\n",
    "print scaled_df.head(2)\n",
    "\n",
    "ribo_gene2transcript = {}\n",
    "ribo_gene2uniprot = {}\n",
    "ribo_gene2length = {}\n",
    "uniprot_ids = []\n",
    "scaled_df.set_index(\"Gene\", inplace=True, drop=True)\n",
    "\n",
    "counter = collections.Counter()\n",
    "\n",
    "for ribo_gene in set(scaled_df.index):\n",
    "    transcripts = scaled_df.ix[ribo_gene]['Transcript']\n",
    "   \n",
    "    if type(transcripts) == str:\n",
    "        ribo_gene2transcript[ribo_gene] = [transcripts]\n",
    "        if transcripts in t_id2uniprot:\n",
    "            counter['single transcript'] += 1\n",
    "            ribo_gene2uniprot[ribo_gene] = t_id2uniprot[transcripts]\n",
    "            ribo_gene2length[ribo_gene] = t_id2length[transcripts]\n",
    "        else:\n",
    "            counter[\"no matches for single transcript, setting to 'NA'\"] += 1\n",
    "            ribo_gene2uniprot[ribo_gene] = \"NA\"\n",
    "            ribo_gene2length[ribo_gene] = \"NA\"\n",
    "    else:\n",
    "        transcripts = transcripts.tolist()\n",
    "        ribo_gene2transcript[ribo_gene] = transcripts\n",
    "        \n",
    "        possible_uniprot_ids = set()\n",
    "        possible_lengths = set()\n",
    "        for transcript in transcripts:\n",
    "            if transcript in t_id2uniprot:\n",
    "                possible_uniprot_ids.add(t_id2uniprot[transcript])\n",
    "                possible_lengths.add(t_id2length[transcript])\n",
    "        if len(possible_uniprot_ids) == 0:\n",
    "            counter[\"no matches for any transcript, setting to 'NA'\"] += 1\n",
    "            ribo_gene2uniprot[ribo_gene] = \"NA\"\n",
    "            ribo_gene2length[ribo_gene] = \"NA\"\n",
    "        else:\n",
    "            if len(possible_uniprot_ids)>1:\n",
    "                counter[\"more than one possible uniprot id, setting to 'NA'\"] += 1\n",
    "                ribo_gene2uniprot[ribo_gene] = \"NA\"\n",
    "                ribo_gene2length[ribo_gene] = \"NA\"\n",
    "            else:\n",
    "                counter['multiple transcript'] += 1\n",
    "                ribo_gene2uniprot[ribo_gene] = list(possible_uniprot_ids)[0]\n",
    "                ribo_gene2length[ribo_gene] = list(possible_lengths)[0]\n",
    "\n",
    "\n",
    "print counter\n",
    "print len(uniprot_ids)\n",
    "print scaled_df.shape"
   ]
  },
  {
   "cell_type": "markdown",
   "metadata": {},
   "source": [
    "Some of the transcript ids have a e.g '.1' suffix. We only want unique ids so we'll extract the unique id, group on this and sum the expression values"
   ]
  },
  {
   "cell_type": "code",
   "execution_count": 9,
   "metadata": {
    "collapsed": false
   },
   "outputs": [
    {
     "name": "stdout",
     "output_type": "stream",
     "text": [
      "Index([u'unique_Transcript', u'Scaled bc05 (E1)', u'Scaled bc08 (E4)',\n",
      "       u'Scaled bc07 (E3)', u'Scaled bc06 (E2)'],\n",
      "      dtype='object')\n",
      "          unique_Transcript  Scaled bc05 (E1)  Scaled bc08 (E4)  \\\n",
      "Gene                                                              \n",
      "Zfp85-rs1      NM_001001130          0.367869          0.852209   \n",
      "Scap           NM_001001144          0.205486          0.341253   \n",
      "\n",
      "           Scaled bc07 (E3)  Scaled bc06 (E2)  \n",
      "Gene                                           \n",
      "Zfp85-rs1          5.812045          2.753571  \n",
      "Scap               1.749569          3.307144  \n"
     ]
    }
   ],
   "source": [
    "#print scaled_df.head()\n",
    "scaled_df['unique_Transcript'] = [x.split(\".\")[0] for x in scaled_df['Transcript']]\n",
    "agg_dict = {}\n",
    "for col in scaled_df.reset_index().columns:\n",
    "    if col == \"Transcript\" or col == \"unique_Transcript\":\n",
    "        pass\n",
    "    elif col == \"Gene\" or col == \"uniprot_id\":\n",
    "        agg_dict[col] = lambda x: list(x)[0]\n",
    "    else:\n",
    "        agg_dict[col] = np.sum\n",
    "\n",
    "unique_scaled_df = scaled_df.reset_index().groupby('unique_Transcript').agg(agg_dict)\n",
    "\n",
    "unique_scaled_df = unique_scaled_df.reset_index().set_index(\"Gene\")\n",
    "\n",
    "print unique_scaled_df.columns\n",
    "print unique_scaled_df.head(2)"
   ]
  },
  {
   "cell_type": "markdown",
   "metadata": {},
   "source": [
    "Quick check tghat the ids match up..."
   ]
  },
  {
   "cell_type": "code",
   "execution_count": 10,
   "metadata": {
    "collapsed": false
   },
   "outputs": [
    {
     "name": "stdout",
     "output_type": "stream",
     "text": [
      "(27411, 5)\n",
      "(27796, 6)\n",
      "27411\n",
      "0\n",
      "0\n"
     ]
    }
   ],
   "source": [
    "print unique_scaled_df.shape\n",
    "print scaled_df.shape\n",
    "print len(set(scaled_df['unique_Transcript']))\n",
    "s_i = set(scaled_df.index)\n",
    "u_s_i = set(unique_scaled_df.index)\n",
    "\n",
    "print len(s_i.difference(u_s_i))\n",
    "print len(u_s_i.difference(s_i))\n",
    "\n"
   ]
  },
  {
   "cell_type": "code",
   "execution_count": 11,
   "metadata": {
    "collapsed": false
   },
   "outputs": [
    {
     "name": "stdout",
     "output_type": "stream",
     "text": [
      "0.513513513514\n",
      "0.513513513514\n"
     ]
    }
   ],
   "source": [
    "def getMaxFraction(array):\n",
    "    '''get the minimum fold difference between the largest\n",
    "    and remaining elements from list\n",
    "    \n",
    "    return np.nan if all elements are zero or the list is length 1'''\n",
    "    a_max = max(array)\n",
    "    \n",
    "    if a_max == 0:\n",
    "        return np.nan\n",
    "    \n",
    "    return float(a_max)/sum(array)\n",
    "\n",
    "print getMaxFraction([0,1,2,3,19,2,10])\n",
    "print float(19)/sum([0,1,2,3,19,2,10])"
   ]
  },
  {
   "cell_type": "code",
   "execution_count": 12,
   "metadata": {
    "collapsed": false
   },
   "outputs": [
    {
     "name": "stdout",
     "output_type": "stream",
     "text": [
      "0.526315789474\n",
      "0.526315789474\n",
      "nan\n"
     ]
    }
   ],
   "source": [
    "def getMinFoldDifference(array, min_expression_threshold):\n",
    "    '''get the minimum fold difference between the largest\n",
    "    and remaining elements from list\n",
    "    \n",
    "    return np.nan if all elements are zero or the list is length 1'''\n",
    "    a_max = max(array)\n",
    "    \n",
    "    thresholded_array = [x for x in array if x > min_expression_threshold]\n",
    "    \n",
    "    if a_max == 0 or len(thresholded_array) < 2:\n",
    "        return np.nan\n",
    "    \n",
    "    try:\n",
    "        difference = float(sorted(thresholded_array, reverse=True)[1])/a_max\n",
    "    except:\n",
    "        print thresholded_array\n",
    "        raise ValueError\n",
    "    return difference\n",
    "\n",
    "print getMinFoldDifference([0,1,2,3,19,2,10], 3)\n",
    "print 10.0/19\n",
    "\n",
    "print getMinFoldDifference([0,1,2,3,19,2,10], 10)\n"
   ]
  },
  {
   "cell_type": "markdown",
   "metadata": {},
   "source": [
    "In the following few cells, we annotate the ribo-seq data with the mean expression, expression difference between isoforms, # of isoforms and fraction accounted for by major isoform"
   ]
  },
  {
   "cell_type": "code",
   "execution_count": 13,
   "metadata": {
    "collapsed": false
   },
   "outputs": [],
   "source": [
    "mean_expression = unique_scaled_df.apply(lambda x: np.mean(x[1:5]), axis=1)\n",
    "unique_scaled_df['mean_expression'] = mean_expression"
   ]
  },
  {
   "cell_type": "code",
   "execution_count": 171,
   "metadata": {
    "collapsed": false
   },
   "outputs": [],
   "source": [
    "min_expression_threshold = 0.1\n",
    "\n",
    "min_difference = unique_scaled_df.reset_index().groupby(\"Gene\")['mean_expression'].apply(\n",
    "    lambda x: getMinFoldDifference(x, min_expression_threshold))\n",
    "unique_scaled_df['min_difference'] = min_difference "
   ]
  },
  {
   "cell_type": "code",
   "execution_count": 172,
   "metadata": {
    "collapsed": true
   },
   "outputs": [],
   "source": [
    "max_fraction = unique_scaled_df.reset_index().groupby(\"Gene\")['mean_expression'].apply(\n",
    "    lambda x: getMaxFraction(x))\n",
    "unique_scaled_df['max_fraction'] = max_fraction"
   ]
  },
  {
   "cell_type": "code",
   "execution_count": 173,
   "metadata": {
    "collapsed": true
   },
   "outputs": [],
   "source": [
    "isoforms = unique_scaled_df.reset_index().groupby(\"Gene\")['mean_expression'].apply(\n",
    "    lambda x: len([y for y in x if y > min_expression_threshold]))\n",
    "unique_scaled_df['isoforms'] = isoforms"
   ]
  },
  {
   "cell_type": "markdown",
   "metadata": {},
   "source": [
    "Let's see how many proteins are identified using the thresholds given here..."
   ]
  },
  {
   "cell_type": "code",
   "execution_count": 174,
   "metadata": {
    "collapsed": false
   },
   "outputs": [
    {
     "name": "stdout",
     "output_type": "stream",
     "text": [
      "2323\n",
      "21075\n",
      "18890\n",
      "27411\n",
      "2973\n",
      "21075\n"
     ]
    }
   ],
   "source": [
    "difference_threshold = 0.1\n",
    "expression_threshold = 0.1\n",
    "fraction_threshold = 0.9\n",
    "\n",
    "min_difference_thresholded = min_difference[min_difference > difference_threshold]\n",
    "mean_expression_thresholded = mean_expression[mean_expression > expression_threshold]\n",
    "max_fraction_thresholded = max_fraction[max_fraction < fraction_threshold]\n",
    "\n",
    "print len(min_difference_thresholded)\n",
    "print len(min_difference)\n",
    "\n",
    "print len(mean_expression_thresholded)\n",
    "print len(mean_expression)\n",
    "\n",
    "print len(max_fraction_thresholded)\n",
    "print len(max_fraction)"
   ]
  },
  {
   "cell_type": "code",
   "execution_count": 175,
   "metadata": {
    "collapsed": false
   },
   "outputs": [
    {
     "name": "stdout",
     "output_type": "stream",
     "text": [
      "(27411, 9)\n",
      "Index([u'Zfp85-rs1', u'Scap', u'Zfp458', u'Fbxo41', u'Taf9b', u'Zfp941',\n",
      "       u'BC031181', u'Baz2b', u'Ccdc111', u'BC048507',\n",
      "       ...\n",
      "       u'Fuk', u'Gpr19', u'4732471J01Rik', u'Ube2w', u'Adck5', u'Flcn',\n",
      "       u'Nol8', u'Nol8', u'Gnb5', u'Chka'],\n",
      "      dtype='object', name=u'Gene', length=18890)\n",
      "(26210, 9)\n",
      "(6341, 9)\n",
      "(6285, 9)\n"
     ]
    }
   ],
   "source": [
    "print unique_scaled_df.shape\n",
    "\n",
    "print mean_expression_thresholded.index\n",
    "thresholded_scaled_df = unique_scaled_df[unique_scaled_df['mean_expression'] > 0]\n",
    "print thresholded_scaled_df.shape\n",
    "\n",
    "thresholded_scaled_df = thresholded_scaled_df[thresholded_scaled_df ['min_difference'] > difference_threshold]\n",
    "print thresholded_scaled_df.shape\n",
    "\n",
    "thresholded_scaled_df = thresholded_scaled_df[thresholded_scaled_df ['max_fraction'] < fraction_threshold]\n",
    "print thresholded_scaled_df.shape"
   ]
  },
  {
   "cell_type": "code",
   "execution_count": 176,
   "metadata": {
    "collapsed": false
   },
   "outputs": [
    {
     "name": "stdout",
     "output_type": "stream",
     "text": [
      "              unique_Transcript  Scaled bc05 (E1)  Scaled bc08 (E4)  \\\n",
      "Gene                                                                  \n",
      "0610007P08Rik      NM_001013608          1.409492          8.711642   \n",
      "0610007P08Rik         NM_023507          0.065154          0.044201   \n",
      "\n",
      "               Scaled bc07 (E3)  Scaled bc06 (E2)  mean_expression  \\\n",
      "Gene                                                                 \n",
      "0610007P08Rik         37.552596         21.642879        17.329152   \n",
      "0610007P08Rik          0.213406          0.606047         0.232202   \n",
      "\n",
      "               min_difference  max_fraction  isoforms  \n",
      "Gene                                                   \n",
      "0610007P08Rik        0.013399      0.986778         2  \n",
      "0610007P08Rik        0.013399      0.986778         2  \n"
     ]
    }
   ],
   "source": [
    "print unique_scaled_df.ix['0610007P08Rik']"
   ]
  },
  {
   "cell_type": "code",
   "execution_count": 177,
   "metadata": {
    "collapsed": false
   },
   "outputs": [
    {
     "name": "stdout",
     "output_type": "stream",
     "text": [
      "               isoforms  max_fraction  min_difference  mean_expression  \\\n",
      "Gene                                                                     \n",
      "0610005C13Rik         0      0.999963             NaN         0.040674   \n",
      "0610007N19Rik         1      1.000000             NaN         0.350836   \n",
      "0610007P08Rik         2      0.986778        0.013399        17.561354   \n",
      "0610007P14Rik         1      1.000000             NaN        36.144407   \n",
      "0610007P22Rik         2      0.698118        0.432422        23.216892   \n",
      "\n",
      "              uniprot_id length  \n",
      "Gene                             \n",
      "0610005C13Rik         NA     NA  \n",
      "0610007N19Rik         NA     NA  \n",
      "0610007P08Rik     Q9JIM3   1537  \n",
      "0610007P14Rik     Q9ERY9    140  \n",
      "0610007P22Rik     Q5HZH2    323  \n",
      "(21075, 6)\n",
      "          isoforms  max_fraction  min_difference  mean_expression uniprot_id  \\\n",
      "Gene                                                                           \n",
      "Ubap2l           8      0.247555        0.729089        40.507876     Q80X50   \n",
      "Pfkfb3           8      0.263792        0.860581         4.870108         NA   \n",
      "Tcf3             8      0.171075        0.976838        20.464832     P15806   \n",
      "Tbc1d24          8      0.230547        0.955478         2.800004     Q3UUG6   \n",
      "Plec             9      0.399077        0.418974         3.636626     Q9QXS1   \n",
      "Asph             9      0.209385        0.981863        12.423100     Q8BSY0   \n",
      "Eif5a            9      0.707187        0.314449      1155.247633     P63242   \n",
      "Tpm1            10      0.370899        0.649602        61.120080     P58771   \n",
      "Crem            10      0.290927        0.959683         5.390976     P27699   \n",
      "Gtf2ird1        11      0.266299        0.536458        14.090114     Q9JI57   \n",
      "\n",
      "         length  \n",
      "Gene             \n",
      "Ubap2l     1107  \n",
      "Pfkfb3       NA  \n",
      "Tcf3        651  \n",
      "Tbc1d24     561  \n",
      "Plec       4691  \n",
      "Asph        741  \n",
      "Eif5a       154  \n",
      "Tpm1        284  \n",
      "Crem        357  \n",
      "Gtf2ird1   1104  \n",
      "               isoforms  max_fraction  min_difference  mean_expression  \\\n",
      "Gene                                                                     \n",
      "0610005C13Rik         0      0.999963             NaN         0.040674   \n",
      "Psg28                 0      1.000000             NaN         0.001616   \n",
      "Foxs1                 0           NaN             NaN         0.000000   \n",
      "Psg29                 0      1.000000             NaN         0.002441   \n",
      "Foxp3                 0      0.516997             NaN         0.013866   \n",
      "Foxp2                 0      0.928034             NaN         0.084783   \n",
      "Psmb11                0      1.000000             NaN         0.072246   \n",
      "Foxn1                 0      1.000000             NaN         0.031024   \n",
      "Foxl2os               0      1.000000             NaN         0.018086   \n",
      "Foxl2                 0      1.000000             NaN         0.018141   \n",
      "\n",
      "              uniprot_id length  \n",
      "Gene                             \n",
      "0610005C13Rik         NA     NA  \n",
      "Psg28                 NA     NA  \n",
      "Foxs1             Q61574    329  \n",
      "Psg29                 NA     NA  \n",
      "Foxp3             Q99JB6    429  \n",
      "Foxp2             P58463    714  \n",
      "Psmb11            Q8BG41    302  \n",
      "Foxn1             Q61575    648  \n",
      "Foxl2os               NA     NA  \n",
      "Foxl2             O88470    375  \n"
     ]
    }
   ],
   "source": [
    "annotation_df = unique_scaled_df[['min_difference', 'mean_expression', 'max_fraction', 'isoforms']].reset_index(\n",
    "    ).groupby('Gene').agg({'min_difference':np.mean, 'mean_expression':sum,\n",
    "                           'max_fraction':np.mean, 'isoforms':np.mean})\n",
    "\n",
    "annotation_df['uniprot_id'] = [ribo_gene2uniprot[x] for x in annotation_df.index]\n",
    "annotation_df['length'] = [ribo_gene2length[x] for x in annotation_df.index]\n",
    "print annotation_df.head()\n",
    "print annotation_df.shape\n",
    "\n",
    "print annotation_df.sort_values('isoforms').tail(10)\n",
    "print annotation_df.sort_values('isoforms').head(10)"
   ]
  },
  {
   "cell_type": "markdown",
   "metadata": {},
   "source": [
    "Now we need to annotate the hyperLOPIT data with the mean expression, min_difference, max_fraction and isoforms."
   ]
  },
  {
   "cell_type": "code",
   "execution_count": 178,
   "metadata": {
    "collapsed": false
   },
   "outputs": [
    {
     "name": "stdout",
     "output_type": "stream",
     "text": [
      "5032\n",
      "(5032, 46)\n",
      "(5011, 46)\n"
     ]
    }
   ],
   "source": [
    "lopit_df = pd.read_table(os.path.join(data_dir, \"ncomms.tsv.txt\"), sep=\"\\t\")\n",
    "\n",
    "lopit_df['uniprot_id'] = [x.split(\"-\")[0] for x in lopit_df['UniProt Accession for Protein Group']]\n",
    "print len(lopit_df['uniprot_id'])\n",
    "print lopit_df.shape\n",
    "\n",
    "lopit_df.drop_duplicates(subset=['uniprot_id'], inplace=True)\n",
    "print lopit_df.shape"
   ]
  },
  {
   "cell_type": "markdown",
   "metadata": {},
   "source": [
    "Frequency tables and then a Fisher's exact test"
   ]
  },
  {
   "cell_type": "code",
   "execution_count": 245,
   "metadata": {
    "collapsed": false
   },
   "outputs": [
    {
     "name": "stdout",
     "output_type": "stream",
     "text": [
      "(5011, 46)\n",
      "(4726, 51)\n",
      "classified   False       True       \n",
      "low_fraction False True  False True \n",
      "isoforms                            \n",
      "1             1469     2  2122     2\n",
      "2               70   282    95   257\n",
      "3                6   123     9   111\n",
      "4                1    48     3    42\n",
      "5                0    24     0    16\n",
      "6                0     6     0     8\n",
      "7                0     3     0     0\n",
      "8                0     2     0     0\n",
      "9                0     2     0     1\n",
      "10               0     0     0     1\n",
      "AS                                     False  True \n",
      "Final Localization Assignment                      \n",
      "40S Ribosome                              39      5\n",
      "60S Ribosome                              52      8\n",
      "Actin cytoskeleton                        33     10\n",
      "Cytosol                                  299     35\n",
      "Endoplasmic reticulum/Golgi apparatus    356     59\n",
      "Endosome                                  40     16\n",
      "Endosome                                   2      0\n",
      "Extracellular matrix                      13      1\n",
      "Lysosome                                  63     10\n",
      "Mitochondrion                            491     64\n",
      "Nucleus - Chromatin                      226     63\n",
      "Nucleus - Chromatin                        2      1\n",
      "Nucleus - Non-chromatin                  309     66\n",
      "Peroxisome                                21      4\n",
      "Plasma membrane                          261     85\n",
      "Proteasome                                31      2\n",
      "unclassified                            1554    484\n",
      "AS          False  True \n",
      "classified              \n",
      "False        1554    484\n",
      "True         2238    429\n"
     ]
    }
   ],
   "source": [
    "print lopit_df.shape\n",
    "merged_df = pd.merge(lopit_df, annotation_df, left_on=\"uniprot_id\", right_on=\"uniprot_id\", how=\"inner\")\n",
    "print merged_df.shape\n",
    "\n",
    "merged_df = merged_df[merged_df['isoforms']>0]\n",
    "merged_df['classified'] = merged_df['Final Localization Assignment'] != \"unclassified\"\n",
    "merged_df['low_fraction'] = merged_df['max_fraction'] < 0.9\n",
    "merged_df['AS'] = ((merged_df['isoforms'] > 1) &\n",
    "                   (merged_df['max_fraction'] < 0.9) &\n",
    "                   (merged_df['min_difference'] > 0.1))\n",
    "print pd.crosstab(merged_df.isoforms, [merged_df['classified'], merged_df['low_fraction']])\n",
    "print pd.crosstab(merged_df['Final Localization Assignment'], merged_df['AS'])\n",
    "print pd.crosstab(merged_df['classified'], merged_df['AS'])\n",
    "\n",
    "merged_df.columns = [x.replace(\" \", \"_\") for x in merged_df.columns]"
   ]
  },
  {
   "cell_type": "code",
   "execution_count": 180,
   "metadata": {
    "collapsed": false
   },
   "outputs": [
    {
     "name": "stdout",
     "output_type": "stream",
     "text": [
      "The rpy2.ipython extension is already loaded. To reload it, use:\n",
      "  %reload_ext rpy2.ipython\n"
     ]
    }
   ],
   "source": [
    "import scipy.stats\n",
    "import rpy2\n",
    "%load_ext rpy2.ipython"
   ]
  },
  {
   "cell_type": "code",
   "execution_count": 181,
   "metadata": {
    "collapsed": true
   },
   "outputs": [],
   "source": [
    "from rpy2.robjects.packages import importr\n",
    "from rpy2.robjects.vectors import FloatVector\n",
    "\n",
    "stats = importr('stats')"
   ]
  },
  {
   "cell_type": "code",
   "execution_count": 182,
   "metadata": {
    "collapsed": false
   },
   "outputs": [
    {
     "name": "stdout",
     "output_type": "stream",
     "text": [
      "Index([u'UniProt_Accession_for_Protein_Group', u'UniProt_ID_for_Protein_Group',\n",
      "       u'UniProt_Protein_Description', u'Quantified_Peptides_Experiment_1',\n",
      "       u'Quantified_Peptides_Experiment_1.1',\n",
      "       u'Quantified_PSMs_(Rep_1)_Experiment_1',\n",
      "       u'Quantified_PSMs_(Rep_1)_Experiment_1.1', u'126', u'127N', u'127C',\n",
      "       u'128N', u'128C', u'129N', u'129C', u'130N', u'130C', u'131', u'126.1',\n",
      "       u'127N.1', u'127C.1', u'128N.1', u'128C.1', u'129N.1', u'129C.1',\n",
      "       u'130N.1', u'130C.1', u'131.1', u'phenoDisco_Input',\n",
      "       u'phenoDisco_Output', u'Curated_phenoDisco_Output', u'SVM_marker_set',\n",
      "       u'SVM_classification', u'SVM_score',\n",
      "       u'SVM_classification_(top_quartile)', u'Final_Localization_Assignment',\n",
      "       u'First_localization_evidence?', u'Curated_Organelles',\n",
      "       u'Cytoskeletal_Components', u'Trafficking_Proteins',\n",
      "       u'Protein_Complexes', u'Signaling_Cascades', u'Oct4_Interactome',\n",
      "       u'Nanog_Interactome', u'Sox2_Interactome', u'Cell_Surface_Proteins',\n",
      "       u'uniprot_id', u'isoforms', u'max_fraction', u'min_difference',\n",
      "       u'mean_expression', u'length', u'classified', u'low_fraction', u'AS'],\n",
      "      dtype='object')\n"
     ]
    }
   ],
   "source": [
    "print merged_df.columns"
   ]
  },
  {
   "cell_type": "code",
   "execution_count": 258,
   "metadata": {
    "collapsed": false
   },
   "outputs": [
    {
     "name": "stdout",
     "output_type": "stream",
     "text": [
      "odds ratio: 1.624790, p.value: 0.000000\n",
      "AS                                     False  True \n",
      "Final_Localization_Assignment                      \n",
      "40S Ribosome                              39      5\n",
      "60S Ribosome                              52      8\n",
      "Actin cytoskeleton                        33     10\n",
      "Cytosol                                  299     35\n",
      "Endoplasmic reticulum/Golgi apparatus    356     59\n",
      "Endosome                                  40     16\n",
      "Endosome                                   2      0\n",
      "Extracellular matrix                      13      1\n",
      "Lysosome                                  63     10\n",
      "Mitochondrion                            491     64\n",
      "Nucleus - Chromatin                      226     63\n",
      "Nucleus - Chromatin                        2      1\n",
      "Nucleus - Non-chromatin                  309     66\n",
      "Peroxisome                                21      4\n",
      "Plasma membrane                          261     85\n",
      "Proteasome                                31      2\n",
      "unclassified                            1554    484\n",
      "                                           odds      p-values           fdr  \\\n",
      "Endosome                               1.673133  8.895637e-02  2.160369e-01   \n",
      "Extracellular matrix                   0.318742  4.941484e-01  6.000373e-01   \n",
      "Cytosol                                0.465694  7.443563e-06  4.218019e-05   \n",
      "Nucleus - Chromatin                    1.169485  2.831178e-01  4.813002e-01   \n",
      "Lysosome                               0.655487  2.361690e-01  4.690642e-01   \n",
      "60S Ribosome                           0.635784  3.226290e-01  4.986084e-01   \n",
      "40S Ribosome                           0.529905  2.483281e-01  4.690642e-01   \n",
      "unclassified                           1.624790  6.724011e-11  1.143082e-09   \n",
      "Nucleus - Non-chromatin                0.878326  3.768804e-01  5.339139e-01   \n",
      "Endoplasmic reticulum/Golgi apparatus  0.666803  5.092521e-03  2.164321e-02   \n",
      "Endosome                               0.000000  1.000000e+00  1.000000e+00   \n",
      "Peroxisome                             0.790193  8.040042e-01  8.542545e-01   \n",
      "Mitochondrion                          0.506800  1.749244e-07  1.486857e-06   \n",
      "Actin cytoskeleton                     1.261452  5.600031e-01  6.346702e-01   \n",
      "Proteasome                             0.266350  7.291876e-02  2.066031e-01   \n",
      "Plasma membrane                        1.388819  1.340542e-02  4.557843e-02   \n",
      "Nucleus - Chromatin                    2.077851  4.765690e-01  6.000373e-01   \n",
      "\n",
      "                                         sig  \n",
      "Endosome                               False  \n",
      "Extracellular matrix                   False  \n",
      "Cytosol                                 True  \n",
      "Nucleus - Chromatin                    False  \n",
      "Lysosome                               False  \n",
      "60S Ribosome                           False  \n",
      "40S Ribosome                           False  \n",
      "unclassified                            True  \n",
      "Nucleus - Non-chromatin                False  \n",
      "Endoplasmic reticulum/Golgi apparatus   True  \n",
      "Endosome                               False  \n",
      "Peroxisome                             False  \n",
      "Mitochondrion                           True  \n",
      "Actin cytoskeleton                     False  \n",
      "Proteasome                             False  \n",
      "Plasma membrane                         True  \n",
      "Nucleus - Chromatin                    False  \n"
     ]
    }
   ],
   "source": [
    "odds, p = scipy.stats.fisher_exact(pd.crosstab(merged_df['classified'], merged_df['AS']))\n",
    "\n",
    "print \"odds ratio: %f, p.value: %f\" % (1/odds, p)\n",
    "odds_ratios = []\n",
    "p_values = []\n",
    "\n",
    "#print sum([x!=y for x, y in zip(merged_df['SVM_classification_(top_quartile)'],\n",
    "#                                merged_df['Final_Localization_Assignment'])])\n",
    "\n",
    "#thresholded = merged_df['Final_Localization_Assignment'].tolist()\n",
    "#top_quartile = merged_df['SVM_classification_(top_quartile)'].tolist()\n",
    "\n",
    "#assert len(thresholded)==len(top_quartile)\n",
    "\n",
    "#for ix in xrange(0, len(thresholded)):\n",
    "    #if thresholded[ix]!=top_quartile[ix] and thresholded[ix].replace(\" \", \"\")!=top_quartile[ix].replace(\" \", \"\"):\n",
    "        #if thresholded[ix]!=\"unclassified\" and top_quartile[ix]!='unclassified':\n",
    "        #print merged_df.iloc[ix,:]\n",
    "        #break\n",
    "\n",
    "for group in set(merged_df['Final_Localization_Assignment']):\n",
    "    #print \"\\n\", group\n",
    "    merged_df['temp_binary'] = merged_df['Final_Localization_Assignment'] == group\n",
    "    odds, p = scipy.stats.fisher_exact(pd.crosstab(merged_df['temp_binary'], merged_df['AS']))\n",
    "    odds_ratios.append(odds)\n",
    "    p_values.append(p)\n",
    "    #print \"odds ratio: %f, p.value: %f\" % (odds, p)\n",
    "    \n",
    "fishers_df = pd.DataFrame({'odds': odds_ratios, 'p-values':p_values},\n",
    "                          index=set(merged_df['Final_Localization_Assignment']))\n",
    "\n",
    "fishers_df['fdr'] = stats.p_adjust(FloatVector(fishers_df['p-values']), method = 'BH')\n",
    "fishers_df['sig'] = fishers_df['fdr'] <0.1\n",
    "\n",
    "print pd.crosstab(merged_df['Final_Localization_Assignment'], merged_df['AS'])\n",
    "\n",
    "print fishers_df\n"
   ]
  },
  {
   "cell_type": "markdown",
   "metadata": {},
   "source": [
    "So, according to a naive Fisher's exact test using thresholds to determine whether a protein exists in multiple isoforms, there is a slight enrichment for multiple isoform proteins in the \"unclassified\" group.\n",
    "\n",
    "Next, we'll perform a logisitic regression using the dependent value = \"unclassified\" and the independent values \"max_fraction\", \"isoforms\" and \"min_difference\""
   ]
  },
  {
   "cell_type": "code",
   "execution_count": 184,
   "metadata": {
    "collapsed": false
   },
   "outputs": [],
   "source": [
    "merged_df = pd.DataFrame(merged_df)\n",
    "\n",
    "\n",
    "merged_df.to_csv(os.path.join(wkdir, \"notebooks/results/annotated_stem_cell_hyperlopit.tsv\"), sep=\"\\t\", index=False)\n"
   ]
  },
  {
   "cell_type": "code",
   "execution_count": 185,
   "metadata": {
    "collapsed": false,
    "scrolled": true
   },
   "outputs": [],
   "source": [
    "%%R -i wkdir\n",
    "\n",
    "merged_df = read.table(paste0(wkdir, \"/notebooks/results/annotated_stem_cell_hyperlopit.tsv\"),\n",
    "                       sep=\"\\t\", header=T)\n"
   ]
  },
  {
   "cell_type": "markdown",
   "metadata": {},
   "source": [
    "The plots below show the relationships between expression, length, AS and P(classification)."
   ]
  },
  {
   "cell_type": "code",
   "execution_count": 199,
   "metadata": {
    "collapsed": false
   },
   "outputs": [
    {
     "data": {
      "image/png": "[encoded data removed]"
     },
     "metadata": {},
     "output_type": "display_data"
    },
    {
     "data": {
      "image/png": "[encoded data removed]"
     },
     "metadata": {},
     "output_type": "display_data"
    },
    {
     "data": {
      "image/png": "[encoded data removed]"
     },
     "metadata": {},
     "output_type": "display_data"
    }
   ],
   "source": [
    "%%R\n",
    "library(ggplot2)\n",
    "\n",
    "mytheme = theme(axis.text=element_text(size=20), axis.title=element_text(size=20))\n",
    "\n",
    "p = ggplot(merged_df, aes(classified, log(mean_expression))) + coord_flip() + ylab(\"Log expression\") + \n",
    "geom_boxplot(alpha=0.1, notch=T) + theme_classic() + mytheme + ggtitle (\"Expression vs classified/unclassified\")\n",
    "print(p)\n",
    "\n",
    "\n",
    "p = ggplot(merged_df, aes(AS, log(mean_expression))) + coord_flip() + ylab(\"Log expression\") + \n",
    "geom_boxplot(alpha=0.1, notch=T) + theme_classic() + mytheme + ggtitle (\"Expression vs Alternatively spliced\")\n",
    "print(p)\n",
    "\n",
    "p = ggplot(merged_df, aes(AS, log(length))) + coord_flip() + ylab(\"Log length\") + \n",
    "geom_boxplot(alpha=0.1, notch=T) + theme_classic() + mytheme + ggtitle (\"Length vs Alternatively spliced\")\n",
    "print(p)"
   ]
  },
  {
   "cell_type": "markdown",
   "metadata": {},
   "source": [
    "A more sophisticated approach - logistic regression"
   ]
  },
  {
   "cell_type": "code",
   "execution_count": 301,
   "metadata": {
    "collapsed": false
   },
   "outputs": [
    {
     "data": {
      "text/plain": [
       "[1] 3119   59\n",
       "\n",
       "Call:\n",
       "glm(formula = classified ~ AS + log_mean_expression + length, \n",
       "    family = binomial(link = \"logit\"), data = merged_df)\n",
       "\n",
       "Deviance Residuals: \n",
       "    Min       1Q   Median       3Q      Max  \n",
       "-1.4633  -1.2523   0.9844   1.0802   1.6274  \n",
       "\n",
       "Coefficients:\n",
       "                      Estimate Std. Error z value Pr(>|z|)    \n",
       "(Intercept)          1.386e-01  1.139e-01   1.217 0.223730    \n",
       "ASTrue              -3.601e-01  9.015e-02  -3.994 6.49e-05 ***\n",
       "log_mean_expression  8.392e-02  2.952e-02   2.843 0.004469 ** \n",
       "length              -2.556e-04  7.092e-05  -3.604 0.000313 ***\n",
       "---\n",
       "Signif. codes:  0 ‘***’ 0.001 ‘**’ 0.01 ‘*’ 0.05 ‘.’ 0.1 ‘ ’ 1\n",
       "\n",
       "(Dispersion parameter for binomial family taken to be 1)\n",
       "\n",
       "    Null deviance: 4301.6  on 3118  degrees of freedom\n",
       "Residual deviance: 4254.4  on 3115  degrees of freedom\n",
       "AIC: 4262.4\n",
       "\n",
       "Number of Fisher Scoring iterations: 4\n",
       "\n",
       "\n",
       "Call:\n",
       "glm(formula = classified ~ max_fraction + log_mean_expression + \n",
       "    length, family = binomial(link = \"logit\"), data = merged_df)\n",
       "\n",
       "Deviance Residuals: \n",
       "    Min       1Q   Median       3Q      Max  \n",
       "-1.4592  -1.2499   0.9885   1.0839   1.6330  \n",
       "\n",
       "Coefficients:\n",
       "                      Estimate Std. Error z value Pr(>|z|)    \n",
       "(Intercept)         -7.096e-01  2.424e-01  -2.927 0.003418 ** \n",
       "max_fraction         8.347e-01  2.321e-01   3.595 0.000324 ***\n",
       "log_mean_expression  8.450e-02  2.951e-02   2.863 0.004196 ** \n",
       "length              -2.554e-04  7.088e-05  -3.603 0.000314 ***\n",
       "---\n",
       "Signif. codes:  0 ‘***’ 0.001 ‘**’ 0.01 ‘*’ 0.05 ‘.’ 0.1 ‘ ’ 1\n",
       "\n",
       "(Dispersion parameter for binomial family taken to be 1)\n",
       "\n",
       "    Null deviance: 4301.6  on 3118  degrees of freedom\n",
       "Residual deviance: 4257.4  on 3115  degrees of freedom\n",
       "AIC: 4265.4\n",
       "\n",
       "Number of Fisher Scoring iterations: 4\n",
       "\n",
       "                                          Estimate   Std. Error      z value\n",
       "unclassified                            0.36006813 9.014875e-02  3.994155475\n",
       "Nucleus - Chromatin                     0.16933913 1.749778e-01  0.967774822\n",
       "Actin cytoskeleton                      0.14487852 5.132459e-01  0.282278976\n",
       "Endoplasmic reticulum/Golgi apparatus  -0.35250829 1.799288e-01 -1.959154609\n",
       "Mitochondrion                          -0.37386116 1.718804e-01 -2.175123355\n",
       "Nucleus - Non-chromatin                -0.11895357 1.784177e-01 -0.666713792\n",
       "Extracellular matrix                   -1.24086003 1.115401e+00 -1.112479138\n",
       "Plasma membrane                         0.36093204 1.599738e-01  2.256194947\n",
       "Cytosol                                -0.62934746 2.153285e-01 -2.922731232\n",
       "Endosome                                0.25495395 3.707300e-01  0.687707909\n",
       "60S Ribosome                            0.08685635 5.040303e-01  0.172323659\n",
       "Lysosome                               -0.72323328 5.358876e-01 -1.349598851\n",
       "Nucleus - Chromatin                   -16.32931936 3.100040e+03 -0.005267454\n",
       "40S Ribosome                            0.08686186 6.513140e-01  0.133364037\n",
       "Peroxisome                             -0.10629563 6.461934e-01 -0.164495077\n",
       "Proteasome                             -1.01534211 1.041936e+00 -0.974476471\n",
       "Endosome                              -15.41916004 2.575607e+03 -0.005986612\n",
       "                                          Pr(>|z|)         FDR   sig odds_ratio\n",
       "unclassified                          6.492525e-05 0.001103729  TRUE      1.433\n",
       "Nucleus - Chromatin                   3.331568e-01 0.629296255 FALSE      1.185\n",
       "Actin cytoskeleton                    7.777296e-01 0.995797199 FALSE      1.156\n",
       "Endoplasmic reticulum/Golgi apparatus 5.009468e-02 0.170321922 FALSE      0.703\n",
       "Mitochondrion                         2.962087e-02 0.125888713 FALSE      0.688\n",
       "Nucleus - Non-chromatin               5.049550e-01 0.780384949 FALSE      0.888\n",
       "Extracellular matrix                  2.659322e-01 0.629296255 FALSE      0.289\n",
       "Plasma membrane                       2.405842e-02 0.125888713 FALSE      1.435\n",
       "Cytosol                               3.469759e-03 0.029492950  TRUE      0.533\n",
       "Endosome                              4.916367e-01 0.780384949 FALSE      1.290\n",
       "60S Ribosome                          8.631831e-01 0.995797199 FALSE      1.091\n",
       "Lysosome                              1.771447e-01 0.501909963 FALSE      0.485\n",
       "Nucleus - Chromatin                   9.957972e-01 0.995797199 FALSE      0.000\n",
       "40S Ribosome                          8.939055e-01 0.995797199 FALSE      1.091\n",
       "Peroxisome                            8.693414e-01 0.995797199 FALSE      0.899\n",
       "Proteasome                            3.298200e-01 0.629296255 FALSE      0.362\n",
       "Endosome                              9.952234e-01 0.995797199 FALSE      0.000\n",
       "                                      odds_ci_low odds_ci_high\n",
       "unclassified                                1.201        1.710\n",
       "Nucleus - Chromatin                         0.841        1.669\n",
       "Actin cytoskeleton                          0.423        3.161\n",
       "Endoplasmic reticulum/Golgi apparatus       0.494        1.000\n",
       "Mitochondrion                               0.491        0.964\n",
       "Nucleus - Non-chromatin                     0.626        1.260\n",
       "Extracellular matrix                        0.032        2.574\n",
       "Plasma membrane                             1.049        1.963\n",
       "Cytosol                                     0.349        0.813\n",
       "Endosome                                    0.624        2.669\n",
       "60S Ribosome                                0.406        2.929\n",
       "Lysosome                                    0.170        1.387\n",
       "Nucleus - Chromatin                         0.000          Inf\n",
       "40S Ribosome                                0.304        3.910\n",
       "Peroxisome                                  0.253        3.191\n",
       "Proteasome                                  0.047        2.792\n",
       "Endosome                                    0.000          Inf\n",
       "                                           Estimate   Std. Error     z value\n",
       "unclassified                          -8.346535e-01 2.321463e-01 -3.59537794\n",
       "Nucleus - Chromatin                   -5.197819e-01 4.308769e-01 -1.20633508\n",
       "Actin cytoskeleton                    -1.230009e+00 1.136444e+00 -1.08233180\n",
       "Endoplasmic reticulum/Golgi apparatus  9.042205e-01 4.824395e-01  1.87426713\n",
       "Mitochondrion                          1.269682e+00 4.906056e-01  2.58798972\n",
       "Nucleus - Non-chromatin                7.144171e-02 4.457252e-01  0.16028196\n",
       "Extracellular matrix                   1.108753e+00 2.318809e+00  0.47815626\n",
       "Plasma membrane                       -1.081708e+00 3.888751e-01 -2.78163335\n",
       "Cytosol                                2.103962e+00 6.411435e-01  3.28157769\n",
       "Endosome                              -3.936353e-01 9.542134e-01 -0.41252333\n",
       "60S Ribosome                           3.423010e-02 1.418132e+00  0.02413746\n",
       "Lysosome                               3.177181e+00 1.816022e+00  1.74952774\n",
       "Nucleus - Chromatin                    1.260399e+04 2.927257e+05  0.04305735\n",
       "40S Ribosome                           5.577423e-01 1.935057e+00  0.28823043\n",
       "Peroxisome                            -1.085954e-01 1.581753e+00 -0.06865510\n",
       "Proteasome                             1.907351e+00 2.641065e+00  0.72219021\n",
       "Endosome                               2.641606e+04 2.722375e+05  0.09703313\n",
       "                                         Pr(>|z|)         FDR   sig odds_ratio\n",
       "unclassified                          0.000323921 0.005506657  TRUE      0.434\n",
       "Nucleus - Chromatin                   0.227688318 0.552957345 FALSE      0.595\n",
       "Actin cytoskeleton                    0.279105123 0.593098385 FALSE      0.292\n",
       "Endoplasmic reticulum/Golgi apparatus 0.060893615 0.207038292 FALSE      2.470\n",
       "Mitochondrion                         0.009653786 0.041028591  TRUE      3.560\n",
       "Nucleus - Non-chromatin               0.872658969 0.980742961 FALSE      1.074\n",
       "Extracellular matrix                  0.632538990 0.980742961 FALSE      3.031\n",
       "Plasma membrane                       0.005408611 0.030648793  TRUE      0.339\n",
       "Cytosol                               0.001032281 0.008774387  TRUE      8.199\n",
       "Endosome                              0.679955885 0.980742961 FALSE      0.675\n",
       "60S Ribosome                          0.980742961 0.980742961 FALSE      1.035\n",
       "Lysosome                              0.080199838 0.227232873 FALSE     23.979\n",
       "Nucleus - Chromatin                   0.965655816 0.980742961 FALSE        Inf\n",
       "40S Ribosome                          0.773170355 0.980742961 FALSE      1.747\n",
       "Peroxisome                            0.945264159 0.980742961 FALSE      0.897\n",
       "Proteasome                            0.470177540 0.888113132 FALSE      6.735\n",
       "Endosome                              0.922700081 0.980742961 FALSE        Inf\n",
       "                                      odds_ci_low odds_ci_high\n",
       "unclassified                                0.275        0.684\n",
       "Nucleus - Chromatin                         0.256        1.384\n",
       "Actin cytoskeleton                          0.032        2.711\n",
       "Endoplasmic reticulum/Golgi apparatus       0.959        6.359\n",
       "Mitochondrion                               1.361        9.312\n",
       "Nucleus - Non-chromatin                     0.448        2.573\n",
       "Extracellular matrix                        0.032      285.322\n",
       "Plasma membrane                             0.158        0.727\n",
       "Cytosol                                     2.333       28.807\n",
       "Endosome                                    0.104        4.378\n",
       "60S Ribosome                                0.064       16.673\n",
       "Lysosome                                    0.682      842.677\n",
       "Nucleus - Chromatin                         0.000          Inf\n",
       "40S Ribosome                                0.039       77.514\n",
       "Peroxisome                                  0.040       19.918\n",
       "Proteasome                                  0.038     1192.536\n",
       "Endosome                                    0.000          Inf\n"
      ]
     },
     "metadata": {},
     "output_type": "display_data"
    }
   ],
   "source": [
    "%%R\n",
    "print(dim(merged_df))\n",
    "\n",
    "merged_df$log_mean_expression = log(merged_df$mean_expression)\n",
    "\n",
    "model <- glm(classified ~ AS + log_mean_expression + length, family=binomial(link='logit'), data=merged_df)\n",
    "print(summary(model))\n",
    "\n",
    "model <- glm(classified ~ max_fraction + log_mean_expression + length,\n",
    "             family=binomial(link='logit'), data=merged_df)\n",
    "print(summary(model))\n",
    "\n",
    "AS_rows_binary = NULL\n",
    "AS_rows_continuous = NULL\n",
    "\n",
    "for (class in unique(merged_df$Final_Localization_Assignment)){\n",
    "    merged_df$tmp_binary <- merged_df$Final_Localization_Assignment == class\n",
    "    model_binary <- glm(tmp_binary ~ AS + log_mean_expression + length,\n",
    "                        family=binomial(link='logit'), data=merged_df)\n",
    "    AS_rows_binary[class] <- list(coef(summary(model_binary))[2,])\n",
    "    \n",
    "    model_continuous <- glm(tmp_binary ~ max_fraction + log_mean_expression + length,\n",
    "                            family=binomial(link='logit'), data=merged_df)\n",
    "    AS_rows_continuous[class] <- list(coef(summary(model_continuous))[2,])\n",
    "}\n",
    "\n",
    "getLogitDF <- function(rows){\n",
    "    logit_df = as.data.frame(do.call(rbind, rows))\n",
    "    logit_df$FDR <- p.adjust(logit_df[['Pr(>|z|)']], method=\"BH\")\n",
    "    logit_df$sig <- logit_df$FDR < 0.05\n",
    "    logit_df$odds_ratio = round(exp(logit_df$Estimate), 3)\n",
    "    logit_df$odds_ci_low = round(exp(logit_df$Estimate - (1.96*logit_df[['Std. Error']])), 3)\n",
    "    logit_df$odds_ci_high = round(exp(logit_df$Estimate + (1.96*logit_df[['Std. Error']])), 3)\n",
    "    return(logit_df)\n",
    "}\n",
    "\n",
    "logit_df_binary = getLogitDF(AS_rows_binary)\n",
    "logit_df_continuous = getLogitDF(AS_rows_continuous)\n",
    "\n",
    "print(logit_df_binary)\n",
    "\n",
    "print(logit_df_continuous)"
   ]
  },
  {
   "cell_type": "markdown",
   "metadata": {},
   "source": [
    "## CONCLUSIONS AND DISCUSSION:"
   ]
  },
  {
   "cell_type": "markdown",
   "metadata": {},
   "source": [
    "### A naive Fisher's exact test to look for enrichment of proteins with multiple isoforms in the unclassified proteins:\n",
    "\n",
    "A statistically significant (FDR = 1.143e-09) 1.62-fold enrichment is observed for proteins with multiple isoforms in the unclassified proteins. Note that applying the same test across all classifications also yields a depletion for cytosolic, mitochondrial or ER/golgi and enrichment for PM.\n",
    "\n",
    "However, this naive analysis does not consider other protein characteristic which might be driving the probability of classification and confounded with the probability of having multiple isoforms. For a more sophisiticate approach, see the section below using logistic regression."
   ]
  },
  {
   "cell_type": "code",
   "execution_count": 262,
   "metadata": {
    "collapsed": false
   },
   "outputs": [
    {
     "name": "stdout",
     "output_type": "stream",
     "text": [
      "AS          False  True \n",
      "classified              \n",
      "False        1554    484\n",
      "True         2238    429\n",
      "\n",
      "Unclassified odds ratio: 1.624790, FDR: 0.000000000067\n",
      "\n",
      "Complete results for all classifications:\n",
      "                                           odds      p-values           fdr  \\\n",
      "Endosome                               1.673133  8.895637e-02  2.160369e-01   \n",
      "Extracellular matrix                   0.318742  4.941484e-01  6.000373e-01   \n",
      "Cytosol                                0.465694  7.443563e-06  4.218019e-05   \n",
      "Nucleus - Chromatin                    1.169485  2.831178e-01  4.813002e-01   \n",
      "Lysosome                               0.655487  2.361690e-01  4.690642e-01   \n",
      "60S Ribosome                           0.635784  3.226290e-01  4.986084e-01   \n",
      "40S Ribosome                           0.529905  2.483281e-01  4.690642e-01   \n",
      "unclassified                           1.624790  6.724011e-11  1.143082e-09   \n",
      "Nucleus - Non-chromatin                0.878326  3.768804e-01  5.339139e-01   \n",
      "Endoplasmic reticulum/Golgi apparatus  0.666803  5.092521e-03  2.164321e-02   \n",
      "Endosome                               0.000000  1.000000e+00  1.000000e+00   \n",
      "Peroxisome                             0.790193  8.040042e-01  8.542545e-01   \n",
      "Mitochondrion                          0.506800  1.749244e-07  1.486857e-06   \n",
      "Actin cytoskeleton                     1.261452  5.600031e-01  6.346702e-01   \n",
      "Proteasome                             0.266350  7.291876e-02  2.066031e-01   \n",
      "Plasma membrane                        1.388819  1.340542e-02  4.557843e-02   \n",
      "Nucleus - Chromatin                    2.077851  4.765690e-01  6.000373e-01   \n",
      "\n",
      "                                         sig  \n",
      "Endosome                               False  \n",
      "Extracellular matrix                   False  \n",
      "Cytosol                                 True  \n",
      "Nucleus - Chromatin                    False  \n",
      "Lysosome                               False  \n",
      "60S Ribosome                           False  \n",
      "40S Ribosome                           False  \n",
      "unclassified                            True  \n",
      "Nucleus - Non-chromatin                False  \n",
      "Endoplasmic reticulum/Golgi apparatus   True  \n",
      "Endosome                               False  \n",
      "Peroxisome                             False  \n",
      "Mitochondrion                           True  \n",
      "Actin cytoskeleton                     False  \n",
      "Proteasome                             False  \n",
      "Plasma membrane                         True  \n",
      "Nucleus - Chromatin                    False  \n"
     ]
    }
   ],
   "source": [
    "\n",
    "print pd.crosstab(merged_df['classified'], merged_df['AS'])\n",
    "print \"\\nUnclassified odds ratio: %f, FDR: %0.12f\" % tuple(fishers_df.ix['unclassified'][[0,1]].tolist())\n",
    "print '\\nComplete results for all classifications:\\n', fishers_df"
   ]
  },
  {
   "cell_type": "markdown",
   "metadata": {},
   "source": [
    "### Using logistic regression to look for enrichment of proteins with multiple isoforms in the unclassified proteins:\n",
    "\n",
    "Here, we use a generalised linear model (logistic regression) to look for a signficant effect from having multiple isoforms (a binary variable) on the probability of a protein being unclassified. This allows us to include additional continuous covariates of protein expression and length which may also contribute to the probability of being unclassified and might both be confouned with the probability of having multiple isoforms. Thus, if we do not account for these, we might identify erroneous enrichment for multiple isoform proteins simply because they have a different expression or length profile than single isoform proteins. \n",
    "\n",
    "We can see in the first table below, \"binary isoform variable\", that even when including these covariates, multiple isoforms still has a significant impact of on the probability of being unclassified or classified as cytosolic. The effects on the other classifications is not observed with this analysis. Thus, it appears that the unclassified proteins are slightly enriched for proteins with multiple isoforms.\n",
    "\n",
    "Using the logistic regression, we can estimate the percentage of the unclassified proteins which are unclassified because they have multiple isoforms. We do this by imagining all proteins had only a single isoform and all other covariates remain fixed. In this case, the number of proteins that would have been unclassified if it were not for their multiple isoforms is estimated by 1-(1/odds ratio) * (unclassified & multiple isoforms) =\n",
    "\n",
    "(1-(1/1.4)) * 484  = 138.28 (95% CI = 80.7 - 199.3) out of 2038 = ~7% +- 3%.\n",
    "\n",
    "Note that the above assumes that we have identified all the proteins with multiple isoforms. \n",
    "\n",
    "The other advantage of the logistic regression approach is that we do not have to categorise the proteins into the binary groups \"multiple isoforms\" and \"single isoform\". Rather we can use the protein characteristic used to determine this binary variable. For example, we calculate the maximum proportion of a proteins expression which is accounted for by the most abundant isoform. Where this is below 90%, we consider the protein to have multiple isoforms (other filters are also used but this is the most important). We would also expect that as the fraction of expression of the most abundant isoform decreases, the probability of being unclassified should increase. We can test this by using the continuous variable \"max_fraction\" in the logistic regression.\n",
    "\n",
    "The table below, \"continuous isoform variable\", demonstrates that the continuous variable (fraction of expression from the major isoform) significantly effects the probability of a protein being unclassified. Note that the coefficients are in the opposite direction since a lower \"max fraction\" gives a higher probability of having multiple isoforms. This confirms the previous analysis that having multiple isoforms has a signficiant impact of the probability of being unclassified.\n",
    "\n",
    "So, on the one hand, the lack of classification may be partly due to peptides originating from multiple isoforms with difference localisations. On the other hand, the influence of multiple isoforms is only slight (logistic regression odds ratio 1.4, CI 1.2-1.7 giving ~7% of non classification events due to multiple isoforms)\n"
   ]
  },
  {
   "cell_type": "code",
   "execution_count": 219,
   "metadata": {
    "collapsed": false
   },
   "outputs": [
    {
     "data": {
      "text/plain": [
       "[1] \"Binary isoform variable\"\n",
       "                                          Estimate   Std. Error      z value\n",
       "unclassified                            0.36006813 9.014875e-02  3.994155475\n",
       "Nucleus - Chromatin                     0.16933913 1.749778e-01  0.967774822\n",
       "Actin cytoskeleton                      0.14487852 5.132459e-01  0.282278976\n",
       "Endoplasmic reticulum/Golgi apparatus  -0.35250829 1.799288e-01 -1.959154609\n",
       "Mitochondrion                          -0.37386116 1.718804e-01 -2.175123355\n",
       "Nucleus - Non-chromatin                -0.11895357 1.784177e-01 -0.666713792\n",
       "Extracellular matrix                   -1.24086003 1.115401e+00 -1.112479138\n",
       "Plasma membrane                         0.36093204 1.599738e-01  2.256194947\n",
       "Cytosol                                -0.62934746 2.153285e-01 -2.922731232\n",
       "Endosome                                0.25495395 3.707300e-01  0.687707909\n",
       "60S Ribosome                            0.08685635 5.040303e-01  0.172323659\n",
       "Lysosome                               -0.72323328 5.358876e-01 -1.349598851\n",
       "Nucleus - Chromatin                   -16.32931936 3.100040e+03 -0.005267454\n",
       "40S Ribosome                            0.08686186 6.513140e-01  0.133364037\n",
       "Peroxisome                             -0.10629563 6.461934e-01 -0.164495077\n",
       "Proteasome                             -1.01534211 1.041936e+00 -0.974476471\n",
       "Endosome                              -15.41916004 2.575607e+03 -0.005986612\n",
       "                                          Pr(>|z|)         FDR   sig odds_ratio\n",
       "unclassified                          6.492525e-05 0.001103729  TRUE      1.433\n",
       "Nucleus - Chromatin                   3.331568e-01 0.629296255 FALSE      1.185\n",
       "Actin cytoskeleton                    7.777296e-01 0.995797199 FALSE      1.156\n",
       "Endoplasmic reticulum/Golgi apparatus 5.009468e-02 0.170321922 FALSE      0.703\n",
       "Mitochondrion                         2.962087e-02 0.125888713 FALSE      0.688\n",
       "Nucleus - Non-chromatin               5.049550e-01 0.780384949 FALSE      0.888\n",
       "Extracellular matrix                  2.659322e-01 0.629296255 FALSE      0.289\n",
       "Plasma membrane                       2.405842e-02 0.125888713 FALSE      1.435\n",
       "Cytosol                               3.469759e-03 0.029492950  TRUE      0.533\n",
       "Endosome                              4.916367e-01 0.780384949 FALSE      1.290\n",
       "60S Ribosome                          8.631831e-01 0.995797199 FALSE      1.091\n",
       "Lysosome                              1.771447e-01 0.501909963 FALSE      0.485\n",
       "Nucleus - Chromatin                   9.957972e-01 0.995797199 FALSE      0.000\n",
       "40S Ribosome                          8.939055e-01 0.995797199 FALSE      1.091\n",
       "Peroxisome                            8.693414e-01 0.995797199 FALSE      0.899\n",
       "Proteasome                            3.298200e-01 0.629296255 FALSE      0.362\n",
       "Endosome                              9.952234e-01 0.995797199 FALSE      0.000\n",
       "                                      odds_ci_low odds_ci_high\n",
       "unclassified                                1.201        1.710\n",
       "Nucleus - Chromatin                         0.841        1.669\n",
       "Actin cytoskeleton                          0.423        3.161\n",
       "Endoplasmic reticulum/Golgi apparatus       0.494        1.000\n",
       "Mitochondrion                               0.491        0.964\n",
       "Nucleus - Non-chromatin                     0.626        1.260\n",
       "Extracellular matrix                        0.032        2.574\n",
       "Plasma membrane                             1.049        1.963\n",
       "Cytosol                                     0.349        0.813\n",
       "Endosome                                    0.624        2.669\n",
       "60S Ribosome                                0.406        2.929\n",
       "Lysosome                                    0.170        1.387\n",
       "Nucleus - Chromatin                         0.000          Inf\n",
       "40S Ribosome                                0.304        3.910\n",
       "Peroxisome                                  0.253        3.191\n",
       "Proteasome                                  0.047        2.792\n",
       "Endosome                                    0.000          Inf\n",
       "[1] \"Continuous isoform variable\"\n",
       "                                           Estimate   Std. Error     z value\n",
       "unclassified                          -8.346535e-01 2.321463e-01 -3.59537794\n",
       "Nucleus - Chromatin                   -5.197819e-01 4.308769e-01 -1.20633508\n",
       "Actin cytoskeleton                    -1.230009e+00 1.136444e+00 -1.08233180\n",
       "Endoplasmic reticulum/Golgi apparatus  9.042205e-01 4.824395e-01  1.87426713\n",
       "Mitochondrion                          1.269682e+00 4.906056e-01  2.58798972\n",
       "Nucleus - Non-chromatin                7.144171e-02 4.457252e-01  0.16028196\n",
       "Extracellular matrix                   1.108753e+00 2.318809e+00  0.47815626\n",
       "Plasma membrane                       -1.081708e+00 3.888751e-01 -2.78163335\n",
       "Cytosol                                2.103962e+00 6.411435e-01  3.28157769\n",
       "Endosome                              -3.936353e-01 9.542134e-01 -0.41252333\n",
       "60S Ribosome                           3.423010e-02 1.418132e+00  0.02413746\n",
       "Lysosome                               3.177181e+00 1.816022e+00  1.74952774\n",
       "Nucleus - Chromatin                    1.260399e+04 2.927257e+05  0.04305735\n",
       "40S Ribosome                           5.577423e-01 1.935057e+00  0.28823043\n",
       "Peroxisome                            -1.085954e-01 1.581753e+00 -0.06865510\n",
       "Proteasome                             1.907351e+00 2.641065e+00  0.72219021\n",
       "Endosome                               2.641606e+04 2.722375e+05  0.09703313\n",
       "                                         Pr(>|z|)         FDR   sig odds_ratio\n",
       "unclassified                          0.000323921 0.005506657  TRUE      0.434\n",
       "Nucleus - Chromatin                   0.227688318 0.552957345 FALSE      0.595\n",
       "Actin cytoskeleton                    0.279105123 0.593098385 FALSE      0.292\n",
       "Endoplasmic reticulum/Golgi apparatus 0.060893615 0.207038292 FALSE      2.470\n",
       "Mitochondrion                         0.009653786 0.041028591  TRUE      3.560\n",
       "Nucleus - Non-chromatin               0.872658969 0.980742961 FALSE      1.074\n",
       "Extracellular matrix                  0.632538990 0.980742961 FALSE      3.031\n",
       "Plasma membrane                       0.005408611 0.030648793  TRUE      0.339\n",
       "Cytosol                               0.001032281 0.008774387  TRUE      8.199\n",
       "Endosome                              0.679955885 0.980742961 FALSE      0.675\n",
       "60S Ribosome                          0.980742961 0.980742961 FALSE      1.035\n",
       "Lysosome                              0.080199838 0.227232873 FALSE     23.979\n",
       "Nucleus - Chromatin                   0.965655816 0.980742961 FALSE        Inf\n",
       "40S Ribosome                          0.773170355 0.980742961 FALSE      1.747\n",
       "Peroxisome                            0.945264159 0.980742961 FALSE      0.897\n",
       "Proteasome                            0.470177540 0.888113132 FALSE      6.735\n",
       "Endosome                              0.922700081 0.980742961 FALSE        Inf\n",
       "                                      odds_ci_low odds_ci_high\n",
       "unclassified                                0.275        0.684\n",
       "Nucleus - Chromatin                         0.256        1.384\n",
       "Actin cytoskeleton                          0.032        2.711\n",
       "Endoplasmic reticulum/Golgi apparatus       0.959        6.359\n",
       "Mitochondrion                               1.361        9.312\n",
       "Nucleus - Non-chromatin                     0.448        2.573\n",
       "Extracellular matrix                        0.032      285.322\n",
       "Plasma membrane                             0.158        0.727\n",
       "Cytosol                                     2.333       28.807\n",
       "Endosome                                    0.104        4.378\n",
       "60S Ribosome                                0.064       16.673\n",
       "Lysosome                                    0.682      842.677\n",
       "Nucleus - Chromatin                         0.000          Inf\n",
       "40S Ribosome                                0.039       77.514\n",
       "Peroxisome                                  0.040       19.918\n",
       "Proteasome                                  0.038     1192.536\n",
       "Endosome                                    0.000          Inf\n"
      ]
     },
     "metadata": {},
     "output_type": "display_data"
    }
   ],
   "source": [
    "%%R\n",
    "print(\"Binary isoform variable\")\n",
    "print(logit_df_binary)\n",
    "\n",
    "print(\"Continuous isoform variable\")\n",
    "print(logit_df_continuous)"
   ]
  }
 ],
 "metadata": {
  "anaconda-cloud": {},
  "kernelspec": {
   "display_name": "Python [conda root]",
   "language": "python",
   "name": "conda-root-py"
  }
 },
 "nbformat": 4,
 "nbformat_minor": 1
}
